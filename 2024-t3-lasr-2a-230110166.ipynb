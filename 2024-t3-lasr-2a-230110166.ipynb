{
 "cells": [
  {
   "cell_type": "markdown",
   "id": "673f07ed",
   "metadata": {
    "_cell_guid": "b1076dfc-b9ad-4769-8c92-a6c4dae69d19",
    "_uuid": "8f2839f25d086af736a60e9eeb907d3b93b6e0e5",
    "papermill": {
     "duration": 0.002243,
     "end_time": "2024-04-10T19:05:15.007291",
     "exception": false,
     "start_time": "2024-04-10T19:05:15.005048",
     "status": "completed"
    },
    "tags": []
   },
   "source": [
    "# Ejercicio_1\n",
    "Respuestas \n",
    "* a) 5 filas en el Dataset \n",
    "* b. 5 columnas en el Dataset\n",
    "* c.- Facebook\n",
    "* d.- USD\n",
    "* e.- 0.0\n"
   ]
  },
  {
   "cell_type": "markdown",
   "id": "2b3f73c2",
   "metadata": {
    "papermill": {
     "duration": 0.001448,
     "end_time": "2024-04-10T19:05:15.010714",
     "exception": false,
     "start_time": "2024-04-10T19:05:15.009266",
     "status": "completed"
    },
    "tags": []
   },
   "source": [
    "# Ejercico 3\n",
    "Respuestas \n",
    "1.- "
   ]
  }
 ],
 "metadata": {
  "kaggle": {
   "accelerator": "none",
   "dataSources": [],
   "isGpuEnabled": false,
   "isInternetEnabled": false,
   "language": "python",
   "sourceType": "notebook"
  },
  "kernelspec": {
   "display_name": "Python 3",
   "language": "python",
   "name": "python3"
  },
  "language_info": {
   "codemirror_mode": {
    "name": "ipython",
    "version": 3
   },
   "file_extension": ".py",
   "mimetype": "text/x-python",
   "name": "python",
   "nbconvert_exporter": "python",
   "pygments_lexer": "ipython3",
   "version": "3.10.13"
  },
  "papermill": {
   "default_parameters": {},
   "duration": 3.622023,
   "end_time": "2024-04-10T19:05:15.433090",
   "environment_variables": {},
   "exception": null,
   "input_path": "__notebook__.ipynb",
   "output_path": "__notebook__.ipynb",
   "parameters": {},
   "start_time": "2024-04-10T19:05:11.811067",
   "version": "2.5.0"
  }
 },
 "nbformat": 4,
 "nbformat_minor": 5
}
