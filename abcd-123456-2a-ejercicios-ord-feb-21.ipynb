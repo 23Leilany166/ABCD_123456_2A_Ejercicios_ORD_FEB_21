{
 "cells": [
  {
   "cell_type": "markdown",
   "id": "c88191ee",
   "metadata": {
    "papermill": {
     "duration": 0.002046,
     "end_time": "2024-02-21T18:48:37.344623",
     "exception": false,
     "start_time": "2024-02-21T18:48:37.342577",
     "status": "completed"
    },
    "tags": []
   },
   "source": [
    "## Ejercicio 1:\n",
    "\n",
    "La Asociación de Empresas para el Ahorro de la Energía en la Edificación (aeaee) busca fomen-\n",
    "tar la cultura del ahorro de energía y desarrollar la comodidad en las edificaciones para reducir\n",
    "el consumo de energía eléctrica, gas y otros combustibles. Para ello, mediante un estudio se\n",
    "determinaron los factores siguientes que aportan calor a la vivienda. ¿A qué conclusiones llegas?"
   ]
  },
  {
   "cell_type": "markdown",
   "id": "55d6ebb6",
   "metadata": {
    "papermill": {
     "duration": 0.001167,
     "end_time": "2024-02-21T18:48:37.347463",
     "exception": false,
     "start_time": "2024-02-21T18:48:37.346296",
     "status": "completed"
    },
    "tags": []
   },
   "source": [
    "## Conclucion\n",
    "Mi conclusion es que de acuerdo a la grafica el estudio determina que el factor que aporta mas calor a la vivienda es.\n",
    "El calor por azotea por lo que la empresa deveria de analizar una manera efectiva para que se pueda reducir el calor de la azotea y asi reducir los consumos de energia para mantener los edificios a una temperatura estable sin nesesidad de tener que prender aparatos electronicos. "
   ]
  }
 ],
 "metadata": {
  "kaggle": {
   "accelerator": "none",
   "dataSources": [],
   "isGpuEnabled": false,
   "isInternetEnabled": false,
   "language": "python",
   "sourceType": "notebook"
  },
  "kernelspec": {
   "display_name": "Python 3",
   "language": "python",
   "name": "python3"
  },
  "language_info": {
   "codemirror_mode": {
    "name": "ipython",
    "version": 3
   },
   "file_extension": ".py",
   "mimetype": "text/x-python",
   "name": "python",
   "nbconvert_exporter": "python",
   "pygments_lexer": "ipython3",
   "version": "3.10.13"
  },
  "papermill": {
   "default_parameters": {},
   "duration": 3.680285,
   "end_time": "2024-02-21T18:48:37.768734",
   "environment_variables": {},
   "exception": null,
   "input_path": "__notebook__.ipynb",
   "output_path": "__notebook__.ipynb",
   "parameters": {},
   "start_time": "2024-02-21T18:48:34.088449",
   "version": "2.5.0"
  }
 },
 "nbformat": 4,
 "nbformat_minor": 5
}
